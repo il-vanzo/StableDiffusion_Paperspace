{
 "cells": [
  {
   "cell_type": "code",
   "execution_count": null,
   "id": "04dfa814-0fa7-41c3-9669-58344a5b592a",
   "metadata": {
    "tags": []
   },
   "outputs": [],
   "source": [
    "\"\"\"Primero hay que desinstalar torch, torchvision y torchaudio y luego volver a instalarlo\"\"\"\n",
    "!pip uninstall torch -y torchvision -y torchaudio -y\n",
    "!pip install torch torchvision torchaudio\n",
    "!pip install xformers\n",
    "\n",
    "#Montar en Data Sources los checkpoints que se deseen utilizar\n",
    "%cd /notebooks/stable-diffusion-webui\n",
    "!python launch.py --share --enable-insecure-extension-access --ckpt-dir ../../datasets/"
   ]
  }
 ],
 "metadata": {
  "kernelspec": {
   "display_name": "Python 3 (ipykernel)",
   "language": "python",
   "name": "python3"
  },
  "language_info": {
   "codemirror_mode": {
    "name": "ipython",
    "version": 3
   },
   "file_extension": ".py",
   "mimetype": "text/x-python",
   "name": "python",
   "nbconvert_exporter": "python",
   "pygments_lexer": "ipython3",
   "version": "3.9.16"
  }
 },
 "nbformat": 4,
 "nbformat_minor": 5
}
